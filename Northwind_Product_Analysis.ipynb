{
 "cells": [
  {
   "cell_type": "markdown",
   "metadata": {},
   "source": [
    "# Northwind Product Analysis\n",
    "***\n",
    "***"
   ]
  },
  {
   "cell_type": "markdown",
   "metadata": {},
   "source": [
    "Northwind is a fictional wholesaler of various food products.  The goal of this project is to use queries and visualizations, using the results of those queries, to present insights about the organization's products."
   ]
  },
  {
   "cell_type": "code",
   "execution_count": 1,
   "metadata": {},
   "outputs": [],
   "source": [
    "%load_ext sql\n",
    "%sql sqlite:///northwind.sqlite3\n",
    "%matplotlib inline\n",
    "import matplotlib.pyplot as plt"
   ]
  },
  {
   "cell_type": "markdown",
   "metadata": {},
   "source": [
    "## Data Overview"
   ]
  },
  {
   "cell_type": "markdown",
   "metadata": {},
   "source": [
    "### Tables"
   ]
  },
  {
   "cell_type": "code",
   "execution_count": 2,
   "metadata": {},
   "outputs": [
    {
     "name": "stdout",
     "output_type": "stream",
     "text": [
      "Done.\n"
     ]
    },
    {
     "data": {
      "text/html": [
       "<table>\n",
       "    <tr>\n",
       "        <th>name</th>\n",
       "    </tr>\n",
       "    <tr>\n",
       "        <td>Categories</td>\n",
       "    </tr>\n",
       "    <tr>\n",
       "        <td>Customers</td>\n",
       "    </tr>\n",
       "    <tr>\n",
       "        <td>EmployeeTerritories</td>\n",
       "    </tr>\n",
       "    <tr>\n",
       "        <td>Employees</td>\n",
       "    </tr>\n",
       "    <tr>\n",
       "        <td>OrderDetails</td>\n",
       "    </tr>\n",
       "    <tr>\n",
       "        <td>Orders</td>\n",
       "    </tr>\n",
       "    <tr>\n",
       "        <td>Products</td>\n",
       "    </tr>\n",
       "    <tr>\n",
       "        <td>Region</td>\n",
       "    </tr>\n",
       "    <tr>\n",
       "        <td>Shippers</td>\n",
       "    </tr>\n",
       "    <tr>\n",
       "        <td>Suppliers</td>\n",
       "    </tr>\n",
       "    <tr>\n",
       "        <td>Territories</td>\n",
       "    </tr>\n",
       "</table>"
      ],
      "text/plain": [
       "[('Categories',),\n",
       " ('Customers',),\n",
       " ('EmployeeTerritories',),\n",
       " ('Employees',),\n",
       " ('OrderDetails',),\n",
       " ('Orders',),\n",
       " ('Products',),\n",
       " ('Region',),\n",
       " ('Shippers',),\n",
       " ('Suppliers',),\n",
       " ('Territories',)]"
      ]
     },
     "execution_count": 2,
     "metadata": {},
     "output_type": "execute_result"
    }
   ],
   "source": [
    "%%sql\n",
    "-- Tables in the database\n",
    "SELECT name\n",
    "FROM sqlite_master\n",
    "WHERE type='table'\n",
    "ORDER BY name"
   ]
  },
  {
   "cell_type": "markdown",
   "metadata": {},
   "source": [
    "### Product Categories"
   ]
  },
  {
   "cell_type": "code",
   "execution_count": 3,
   "metadata": {},
   "outputs": [
    {
     "name": "stdout",
     "output_type": "stream",
     "text": [
      "Done.\n"
     ]
    },
    {
     "data": {
      "text/html": [
       "<table>\n",
       "    <tr>\n",
       "        <th>CategoryID</th>\n",
       "        <th>CategoryName</th>\n",
       "        <th>Description</th>\n",
       "    </tr>\n",
       "    <tr>\n",
       "        <td>1</td>\n",
       "        <td>Beverages</td>\n",
       "        <td>b&#x27;Soft drinks, coffees, teas, beers, and ales\\x00&#x27;</td>\n",
       "    </tr>\n",
       "    <tr>\n",
       "        <td>2</td>\n",
       "        <td>Condiments</td>\n",
       "        <td>b&#x27;Sweet and savory sauces, relishes, spreads, and seasonings\\x00&#x27;</td>\n",
       "    </tr>\n",
       "    <tr>\n",
       "        <td>3</td>\n",
       "        <td>Confections</td>\n",
       "        <td>b&#x27;Desserts, candies, and sweet breads\\x00&#x27;</td>\n",
       "    </tr>\n",
       "    <tr>\n",
       "        <td>4</td>\n",
       "        <td>Dairy Products</td>\n",
       "        <td>b&#x27;Cheeses\\x00&#x27;</td>\n",
       "    </tr>\n",
       "    <tr>\n",
       "        <td>5</td>\n",
       "        <td>Grains/Cereals</td>\n",
       "        <td>b&#x27;Breads, crackers, pasta, and cereal\\x00&#x27;</td>\n",
       "    </tr>\n",
       "    <tr>\n",
       "        <td>6</td>\n",
       "        <td>Meat/Poultry</td>\n",
       "        <td>b&#x27;Prepared meats\\x00&#x27;</td>\n",
       "    </tr>\n",
       "    <tr>\n",
       "        <td>7</td>\n",
       "        <td>Produce</td>\n",
       "        <td>b&#x27;Dried fruit and bean curd\\x00&#x27;</td>\n",
       "    </tr>\n",
       "    <tr>\n",
       "        <td>8</td>\n",
       "        <td>Seafood</td>\n",
       "        <td>b&#x27;Seaweed and fish\\x00&#x27;</td>\n",
       "    </tr>\n",
       "</table>"
      ],
      "text/plain": [
       "[(1, 'Beverages', b'Soft drinks, coffees, teas, beers, and ales\\x00'),\n",
       " (2, 'Condiments', b'Sweet and savory sauces, relishes, spreads, and seasonings\\x00'),\n",
       " (3, 'Confections', b'Desserts, candies, and sweet breads\\x00'),\n",
       " (4, 'Dairy Products', b'Cheeses\\x00'),\n",
       " (5, 'Grains/Cereals', b'Breads, crackers, pasta, and cereal\\x00'),\n",
       " (6, 'Meat/Poultry', b'Prepared meats\\x00'),\n",
       " (7, 'Produce', b'Dried fruit and bean curd\\x00'),\n",
       " (8, 'Seafood', b'Seaweed and fish\\x00')]"
      ]
     },
     "execution_count": 3,
     "metadata": {},
     "output_type": "execute_result"
    }
   ],
   "source": [
    "%%sql\n",
    "-- Ignore picture field\n",
    "SELECT CategoryID, CategoryName, Description\n",
    "FROM Categories;"
   ]
  },
  {
   "cell_type": "markdown",
   "metadata": {},
   "source": [
    "### Products"
   ]
  },
  {
   "cell_type": "code",
   "execution_count": 4,
   "metadata": {},
   "outputs": [
    {
     "name": "stdout",
     "output_type": "stream",
     "text": [
      "Done.\n"
     ]
    },
    {
     "data": {
      "text/html": [
       "<table>\n",
       "    <tr>\n",
       "        <th>ProductID</th>\n",
       "        <th>ProductName</th>\n",
       "        <th>SupplierID</th>\n",
       "        <th>CategoryID</th>\n",
       "        <th>QuantityPerUnit</th>\n",
       "        <th>UnitPrice</th>\n",
       "        <th>UnitsInStock</th>\n",
       "        <th>UnitsOnOrder</th>\n",
       "        <th>ReorderLevel</th>\n",
       "        <th>Discontinued</th>\n",
       "    </tr>\n",
       "    <tr>\n",
       "        <td>1</td>\n",
       "        <td>Chai</td>\n",
       "        <td>1</td>\n",
       "        <td>1</td>\n",
       "        <td>10 boxes x 20 bags</td>\n",
       "        <td>18.0</td>\n",
       "        <td>39</td>\n",
       "        <td>0</td>\n",
       "        <td>10</td>\n",
       "        <td>0</td>\n",
       "    </tr>\n",
       "    <tr>\n",
       "        <td>2</td>\n",
       "        <td>Chang</td>\n",
       "        <td>1</td>\n",
       "        <td>1</td>\n",
       "        <td>24 - 12 oz bottles</td>\n",
       "        <td>19.0</td>\n",
       "        <td>17</td>\n",
       "        <td>40</td>\n",
       "        <td>25</td>\n",
       "        <td>0</td>\n",
       "    </tr>\n",
       "    <tr>\n",
       "        <td>3</td>\n",
       "        <td>Aniseed Syrup</td>\n",
       "        <td>1</td>\n",
       "        <td>2</td>\n",
       "        <td>12 - 550 ml bottles</td>\n",
       "        <td>10.0</td>\n",
       "        <td>13</td>\n",
       "        <td>70</td>\n",
       "        <td>25</td>\n",
       "        <td>0</td>\n",
       "    </tr>\n",
       "    <tr>\n",
       "        <td>4</td>\n",
       "        <td>Chef Anton&#x27;s Cajun Seasoning</td>\n",
       "        <td>2</td>\n",
       "        <td>2</td>\n",
       "        <td>48 - 6 oz jars</td>\n",
       "        <td>22.0</td>\n",
       "        <td>53</td>\n",
       "        <td>0</td>\n",
       "        <td>0</td>\n",
       "        <td>0</td>\n",
       "    </tr>\n",
       "    <tr>\n",
       "        <td>5</td>\n",
       "        <td>Chef Anton&#x27;s Gumbo Mix</td>\n",
       "        <td>2</td>\n",
       "        <td>2</td>\n",
       "        <td>36 boxes</td>\n",
       "        <td>21.35</td>\n",
       "        <td>0</td>\n",
       "        <td>0</td>\n",
       "        <td>0</td>\n",
       "        <td>1</td>\n",
       "    </tr>\n",
       "    <tr>\n",
       "        <td>6</td>\n",
       "        <td>Grandma&#x27;s Boysenberry Spread</td>\n",
       "        <td>3</td>\n",
       "        <td>2</td>\n",
       "        <td>12 - 8 oz jars</td>\n",
       "        <td>25.0</td>\n",
       "        <td>120</td>\n",
       "        <td>0</td>\n",
       "        <td>25</td>\n",
       "        <td>0</td>\n",
       "    </tr>\n",
       "    <tr>\n",
       "        <td>7</td>\n",
       "        <td>Uncle Bob&#x27;s Organic Dried Pears</td>\n",
       "        <td>3</td>\n",
       "        <td>7</td>\n",
       "        <td>12 - 1 lb pkgs.</td>\n",
       "        <td>30.0</td>\n",
       "        <td>15</td>\n",
       "        <td>0</td>\n",
       "        <td>10</td>\n",
       "        <td>0</td>\n",
       "    </tr>\n",
       "    <tr>\n",
       "        <td>8</td>\n",
       "        <td>Northwoods Cranberry Sauce</td>\n",
       "        <td>3</td>\n",
       "        <td>2</td>\n",
       "        <td>12 - 12 oz jars</td>\n",
       "        <td>40.0</td>\n",
       "        <td>6</td>\n",
       "        <td>0</td>\n",
       "        <td>0</td>\n",
       "        <td>0</td>\n",
       "    </tr>\n",
       "    <tr>\n",
       "        <td>9</td>\n",
       "        <td>Mishi Kobe Niku</td>\n",
       "        <td>4</td>\n",
       "        <td>6</td>\n",
       "        <td>18 - 500 g pkgs.</td>\n",
       "        <td>97.0</td>\n",
       "        <td>29</td>\n",
       "        <td>0</td>\n",
       "        <td>0</td>\n",
       "        <td>1</td>\n",
       "    </tr>\n",
       "    <tr>\n",
       "        <td>10</td>\n",
       "        <td>Ikura</td>\n",
       "        <td>4</td>\n",
       "        <td>8</td>\n",
       "        <td>12 - 200 ml jars</td>\n",
       "        <td>31.0</td>\n",
       "        <td>31</td>\n",
       "        <td>0</td>\n",
       "        <td>0</td>\n",
       "        <td>0</td>\n",
       "    </tr>\n",
       "</table>"
      ],
      "text/plain": [
       "[(1, 'Chai', 1, 1, '10 boxes x 20 bags', 18.0, 39, 0, 10, 0),\n",
       " (2, 'Chang', 1, 1, '24 - 12 oz bottles', 19.0, 17, 40, 25, 0),\n",
       " (3, 'Aniseed Syrup', 1, 2, '12 - 550 ml bottles', 10.0, 13, 70, 25, 0),\n",
       " (4, \"Chef Anton's Cajun Seasoning\", 2, 2, '48 - 6 oz jars', 22.0, 53, 0, 0, 0),\n",
       " (5, \"Chef Anton's Gumbo Mix\", 2, 2, '36 boxes', 21.35, 0, 0, 0, 1),\n",
       " (6, \"Grandma's Boysenberry Spread\", 3, 2, '12 - 8 oz jars', 25.0, 120, 0, 25, 0),\n",
       " (7, \"Uncle Bob's Organic Dried Pears\", 3, 7, '12 - 1 lb pkgs.', 30.0, 15, 0, 10, 0),\n",
       " (8, 'Northwoods Cranberry Sauce', 3, 2, '12 - 12 oz jars', 40.0, 6, 0, 0, 0),\n",
       " (9, 'Mishi Kobe Niku', 4, 6, '18 - 500 g pkgs.', 97.0, 29, 0, 0, 1),\n",
       " (10, 'Ikura', 4, 8, '12 - 200 ml jars', 31.0, 31, 0, 0, 0)]"
      ]
     },
     "execution_count": 4,
     "metadata": {},
     "output_type": "execute_result"
    }
   ],
   "source": [
    "%%sql\n",
    "SELECT *\n",
    "FROM Products\n",
    "LIMIT 10;"
   ]
  },
  {
   "cell_type": "code",
   "execution_count": 5,
   "metadata": {},
   "outputs": [
    {
     "name": "stdout",
     "output_type": "stream",
     "text": [
      "Done.\n"
     ]
    },
    {
     "data": {
      "text/html": [
       "<table>\n",
       "    <tr>\n",
       "        <th>Number of Products</th>\n",
       "    </tr>\n",
       "    <tr>\n",
       "        <td>77</td>\n",
       "    </tr>\n",
       "</table>"
      ],
      "text/plain": [
       "[(77,)]"
      ]
     },
     "execution_count": 5,
     "metadata": {},
     "output_type": "execute_result"
    }
   ],
   "source": [
    "%%sql\n",
    "SELECT COUNT(*) AS 'Number of Products'\n",
    "FROM Products;"
   ]
  },
  {
   "cell_type": "markdown",
   "metadata": {},
   "source": [
    "### Suppliers"
   ]
  },
  {
   "cell_type": "code",
   "execution_count": 6,
   "metadata": {},
   "outputs": [
    {
     "name": "stdout",
     "output_type": "stream",
     "text": [
      "Done.\n"
     ]
    },
    {
     "data": {
      "text/html": [
       "<table>\n",
       "    <tr>\n",
       "        <th>SupplierID</th>\n",
       "        <th>CompanyName</th>\n",
       "        <th>ContactName</th>\n",
       "        <th>ContactTitle</th>\n",
       "        <th>Address</th>\n",
       "        <th>City</th>\n",
       "        <th>Region</th>\n",
       "        <th>PostalCode</th>\n",
       "        <th>Country</th>\n",
       "        <th>Phone</th>\n",
       "        <th>Fax</th>\n",
       "        <th>HomePage</th>\n",
       "    </tr>\n",
       "    <tr>\n",
       "        <td>1</td>\n",
       "        <td>Exotic Liquids</td>\n",
       "        <td>Charlotte Cooper</td>\n",
       "        <td>Purchasing Manager</td>\n",
       "        <td>49 Gilbert St.</td>\n",
       "        <td>London</td>\n",
       "        <td>None</td>\n",
       "        <td>EC1 4SD</td>\n",
       "        <td>UK</td>\n",
       "        <td>(171) 555-2222</td>\n",
       "        <td>None</td>\n",
       "        <td>None</td>\n",
       "    </tr>\n",
       "    <tr>\n",
       "        <td>2</td>\n",
       "        <td>New Orleans Cajun Delights</td>\n",
       "        <td>Shelley Burke</td>\n",
       "        <td>Order Administrator</td>\n",
       "        <td>P.O. Box 78934</td>\n",
       "        <td>New Orleans</td>\n",
       "        <td>LA</td>\n",
       "        <td>70117</td>\n",
       "        <td>USA</td>\n",
       "        <td>(100) 555-4822</td>\n",
       "        <td>None</td>\n",
       "        <td>b&#x27;#CAJUN.HTM#\\x00&#x27;</td>\n",
       "    </tr>\n",
       "    <tr>\n",
       "        <td>3</td>\n",
       "        <td>Grandma Kelly&#x27;s Homestead</td>\n",
       "        <td>Regina Murphy</td>\n",
       "        <td>Sales Representative</td>\n",
       "        <td>707 Oxford Rd.</td>\n",
       "        <td>Ann Arbor</td>\n",
       "        <td>MI</td>\n",
       "        <td>48104</td>\n",
       "        <td>USA</td>\n",
       "        <td>(313) 555-5735</td>\n",
       "        <td>(313) 555-3349</td>\n",
       "        <td>None</td>\n",
       "    </tr>\n",
       "    <tr>\n",
       "        <td>4</td>\n",
       "        <td>Tokyo Traders</td>\n",
       "        <td>Yoshi Nagase</td>\n",
       "        <td>Marketing Manager</td>\n",
       "        <td>9-8 Sekimai Musashino-shi</td>\n",
       "        <td>Tokyo</td>\n",
       "        <td>None</td>\n",
       "        <td>100</td>\n",
       "        <td>Japan</td>\n",
       "        <td>(03) 3555-5011</td>\n",
       "        <td>None</td>\n",
       "        <td>None</td>\n",
       "    </tr>\n",
       "    <tr>\n",
       "        <td>5</td>\n",
       "        <td>Cooperativa de Quesos &#x27;Las Cabras&#x27;</td>\n",
       "        <td>Antonio del Valle Saavedra</td>\n",
       "        <td>Export Administrator</td>\n",
       "        <td>Calle del Rosal 4</td>\n",
       "        <td>Oviedo</td>\n",
       "        <td>Asturias</td>\n",
       "        <td>33007</td>\n",
       "        <td>Spain</td>\n",
       "        <td>(98) 598 76 54</td>\n",
       "        <td>None</td>\n",
       "        <td>None</td>\n",
       "    </tr>\n",
       "    <tr>\n",
       "        <td>6</td>\n",
       "        <td>Mayumi&#x27;s</td>\n",
       "        <td>Mayumi Ohno</td>\n",
       "        <td>Marketing Representative</td>\n",
       "        <td>92 Setsuko Chuo-ku</td>\n",
       "        <td>Osaka</td>\n",
       "        <td>None</td>\n",
       "        <td>545</td>\n",
       "        <td>Japan</td>\n",
       "        <td>(06) 431-7877</td>\n",
       "        <td>None</td>\n",
       "        <td>b&quot;Mayumi&#x27;s (on the World Wide Web)#http://www.microsoft.com/accessdev/sampleapps/mayumi.htm#\\x00&quot;</td>\n",
       "    </tr>\n",
       "    <tr>\n",
       "        <td>7</td>\n",
       "        <td>Pavlova, Ltd.</td>\n",
       "        <td>Ian Devling</td>\n",
       "        <td>Marketing Manager</td>\n",
       "        <td>74 Rose St. Moonie Ponds</td>\n",
       "        <td>Melbourne</td>\n",
       "        <td>Victoria</td>\n",
       "        <td>3058</td>\n",
       "        <td>Australia</td>\n",
       "        <td>(03) 444-2343</td>\n",
       "        <td>(03) 444-6588</td>\n",
       "        <td>None</td>\n",
       "    </tr>\n",
       "    <tr>\n",
       "        <td>8</td>\n",
       "        <td>Specialty Biscuits, Ltd.</td>\n",
       "        <td>Peter Wilson</td>\n",
       "        <td>Sales Representative</td>\n",
       "        <td>29 King&#x27;s Way</td>\n",
       "        <td>Manchester</td>\n",
       "        <td>None</td>\n",
       "        <td>M14 GSD</td>\n",
       "        <td>UK</td>\n",
       "        <td>(161) 555-4448</td>\n",
       "        <td>None</td>\n",
       "        <td>None</td>\n",
       "    </tr>\n",
       "    <tr>\n",
       "        <td>9</td>\n",
       "        <td>PB Knackebrod AB</td>\n",
       "        <td>Lars Peterson</td>\n",
       "        <td>Sales Agent</td>\n",
       "        <td>Kaloadagatan 13</td>\n",
       "        <td>Goteborg</td>\n",
       "        <td>None</td>\n",
       "        <td>S-345 67</td>\n",
       "        <td>Sweden</td>\n",
       "        <td>031-987 65 43</td>\n",
       "        <td>031-987 65 91</td>\n",
       "        <td>None</td>\n",
       "    </tr>\n",
       "    <tr>\n",
       "        <td>10</td>\n",
       "        <td>Refrescos Americanas LTDA</td>\n",
       "        <td>Carlos Diaz</td>\n",
       "        <td>Marketing Manager</td>\n",
       "        <td>Av. das Americanas 12.890</td>\n",
       "        <td>Sao Paulo</td>\n",
       "        <td>None</td>\n",
       "        <td>5442</td>\n",
       "        <td>Brazil</td>\n",
       "        <td>(11) 555 4640</td>\n",
       "        <td>None</td>\n",
       "        <td>None</td>\n",
       "    </tr>\n",
       "</table>"
      ],
      "text/plain": [
       "[(1, 'Exotic Liquids', 'Charlotte Cooper', 'Purchasing Manager', '49 Gilbert St.', 'London', None, 'EC1 4SD', 'UK', '(171) 555-2222', None, None),\n",
       " (2, 'New Orleans Cajun Delights', 'Shelley Burke', 'Order Administrator', 'P.O. Box 78934', 'New Orleans', 'LA', '70117', 'USA', '(100) 555-4822', None, b'#CAJUN.HTM#\\x00'),\n",
       " (3, \"Grandma Kelly's Homestead\", 'Regina Murphy', 'Sales Representative', '707 Oxford Rd.', 'Ann Arbor', 'MI', '48104', 'USA', '(313) 555-5735', '(313) 555-3349', None),\n",
       " (4, 'Tokyo Traders', 'Yoshi Nagase', 'Marketing Manager', '9-8 Sekimai Musashino-shi', 'Tokyo', None, '100', 'Japan', '(03) 3555-5011', None, None),\n",
       " (5, \"Cooperativa de Quesos 'Las Cabras'\", 'Antonio del Valle Saavedra', 'Export Administrator', 'Calle del Rosal 4', 'Oviedo', 'Asturias', '33007', 'Spain', '(98) 598 76 54', None, None),\n",
       " (6, \"Mayumi's\", 'Mayumi Ohno', 'Marketing Representative', '92 Setsuko Chuo-ku', 'Osaka', None, '545', 'Japan', '(06) 431-7877', None, b\"Mayumi's (on the World Wide Web)#http://www.microsoft.com/accessdev/sampleapps/mayumi.htm#\\x00\"),\n",
       " (7, 'Pavlova, Ltd.', 'Ian Devling', 'Marketing Manager', '74 Rose St. Moonie Ponds', 'Melbourne', 'Victoria', '3058', 'Australia', '(03) 444-2343', '(03) 444-6588', None),\n",
       " (8, 'Specialty Biscuits, Ltd.', 'Peter Wilson', 'Sales Representative', \"29 King's Way\", 'Manchester', None, 'M14 GSD', 'UK', '(161) 555-4448', None, None),\n",
       " (9, 'PB Knackebrod AB', 'Lars Peterson', 'Sales Agent', 'Kaloadagatan 13', 'Goteborg', None, 'S-345 67', 'Sweden', '031-987 65 43', '031-987 65 91', None),\n",
       " (10, 'Refrescos Americanas LTDA', 'Carlos Diaz', 'Marketing Manager', 'Av. das Americanas 12.890', 'Sao Paulo', None, '5442', 'Brazil', '(11) 555 4640', None, None)]"
      ]
     },
     "execution_count": 6,
     "metadata": {},
     "output_type": "execute_result"
    }
   ],
   "source": [
    "%%sql\n",
    "SELECT *\n",
    "FROM Suppliers\n",
    "LIMIT 10;"
   ]
  },
  {
   "cell_type": "code",
   "execution_count": 7,
   "metadata": {},
   "outputs": [
    {
     "name": "stdout",
     "output_type": "stream",
     "text": [
      "Done.\n"
     ]
    },
    {
     "data": {
      "text/html": [
       "<table>\n",
       "    <tr>\n",
       "        <th>Number of Suppliers</th>\n",
       "    </tr>\n",
       "    <tr>\n",
       "        <td>29</td>\n",
       "    </tr>\n",
       "</table>"
      ],
      "text/plain": [
       "[(29,)]"
      ]
     },
     "execution_count": 7,
     "metadata": {},
     "output_type": "execute_result"
    }
   ],
   "source": [
    "%%sql\n",
    "SELECT COUNT(*) AS 'Number of Suppliers'\n",
    "FROM Suppliers;"
   ]
  },
  {
   "cell_type": "markdown",
   "metadata": {},
   "source": [
    "### Order Details"
   ]
  },
  {
   "cell_type": "code",
   "execution_count": 8,
   "metadata": {},
   "outputs": [
    {
     "name": "stdout",
     "output_type": "stream",
     "text": [
      "Done.\n"
     ]
    },
    {
     "data": {
      "text/html": [
       "<table>\n",
       "    <tr>\n",
       "        <th>OrderID</th>\n",
       "        <th>ProductID</th>\n",
       "        <th>UnitPrice</th>\n",
       "        <th>Quantity</th>\n",
       "        <th>Discount</th>\n",
       "    </tr>\n",
       "    <tr>\n",
       "        <td>10248</td>\n",
       "        <td>11</td>\n",
       "        <td>14.0</td>\n",
       "        <td>12</td>\n",
       "        <td>0.0</td>\n",
       "    </tr>\n",
       "    <tr>\n",
       "        <td>10248</td>\n",
       "        <td>42</td>\n",
       "        <td>9.8</td>\n",
       "        <td>10</td>\n",
       "        <td>0.0</td>\n",
       "    </tr>\n",
       "    <tr>\n",
       "        <td>10248</td>\n",
       "        <td>72</td>\n",
       "        <td>34.8</td>\n",
       "        <td>5</td>\n",
       "        <td>0.0</td>\n",
       "    </tr>\n",
       "    <tr>\n",
       "        <td>10249</td>\n",
       "        <td>14</td>\n",
       "        <td>18.6</td>\n",
       "        <td>9</td>\n",
       "        <td>0.0</td>\n",
       "    </tr>\n",
       "    <tr>\n",
       "        <td>10249</td>\n",
       "        <td>51</td>\n",
       "        <td>42.4</td>\n",
       "        <td>40</td>\n",
       "        <td>0.0</td>\n",
       "    </tr>\n",
       "    <tr>\n",
       "        <td>10250</td>\n",
       "        <td>41</td>\n",
       "        <td>7.7</td>\n",
       "        <td>10</td>\n",
       "        <td>0.0</td>\n",
       "    </tr>\n",
       "    <tr>\n",
       "        <td>10250</td>\n",
       "        <td>51</td>\n",
       "        <td>42.4</td>\n",
       "        <td>35</td>\n",
       "        <td>0.15</td>\n",
       "    </tr>\n",
       "    <tr>\n",
       "        <td>10250</td>\n",
       "        <td>65</td>\n",
       "        <td>16.8</td>\n",
       "        <td>15</td>\n",
       "        <td>0.15</td>\n",
       "    </tr>\n",
       "    <tr>\n",
       "        <td>10251</td>\n",
       "        <td>22</td>\n",
       "        <td>16.8</td>\n",
       "        <td>6</td>\n",
       "        <td>0.05</td>\n",
       "    </tr>\n",
       "    <tr>\n",
       "        <td>10251</td>\n",
       "        <td>57</td>\n",
       "        <td>15.6</td>\n",
       "        <td>15</td>\n",
       "        <td>0.05</td>\n",
       "    </tr>\n",
       "</table>"
      ],
      "text/plain": [
       "[(10248, 11, 14.0, 12, 0.0),\n",
       " (10248, 42, 9.8, 10, 0.0),\n",
       " (10248, 72, 34.8, 5, 0.0),\n",
       " (10249, 14, 18.6, 9, 0.0),\n",
       " (10249, 51, 42.4, 40, 0.0),\n",
       " (10250, 41, 7.7, 10, 0.0),\n",
       " (10250, 51, 42.4, 35, 0.15),\n",
       " (10250, 65, 16.8, 15, 0.15),\n",
       " (10251, 22, 16.8, 6, 0.05),\n",
       " (10251, 57, 15.6, 15, 0.05)]"
      ]
     },
     "execution_count": 8,
     "metadata": {},
     "output_type": "execute_result"
    }
   ],
   "source": [
    "%%sql\n",
    "SELECT *\n",
    "FROM OrderDetails\n",
    "LIMIT 10;"
   ]
  },
  {
   "cell_type": "code",
   "execution_count": 9,
   "metadata": {},
   "outputs": [
    {
     "name": "stdout",
     "output_type": "stream",
     "text": [
      "Done.\n"
     ]
    },
    {
     "data": {
      "text/html": [
       "<table>\n",
       "    <tr>\n",
       "        <th>Number of Records in Order Details</th>\n",
       "    </tr>\n",
       "    <tr>\n",
       "        <td>2155</td>\n",
       "    </tr>\n",
       "</table>"
      ],
      "text/plain": [
       "[(2155,)]"
      ]
     },
     "execution_count": 9,
     "metadata": {},
     "output_type": "execute_result"
    }
   ],
   "source": [
    "%%sql\n",
    "SELECT COUNT(*) AS 'Number of Records in Order Details'\n",
    "FROM OrderDetails;"
   ]
  }
 ],
 "metadata": {
  "kernelspec": {
   "display_name": "Python 3",
   "language": "python",
   "name": "python3"
  },
  "language_info": {
   "codemirror_mode": {
    "name": "ipython",
    "version": 3
   },
   "file_extension": ".py",
   "mimetype": "text/x-python",
   "name": "python",
   "nbconvert_exporter": "python",
   "pygments_lexer": "ipython3",
   "version": "3.6.3"
  }
 },
 "nbformat": 4,
 "nbformat_minor": 2
}
